{
 "cells": [
  {
   "cell_type": "code",
   "execution_count": 2,
   "metadata": {},
   "outputs": [],
   "source": [
    "import pandas as pd\n",
    "import numpy as np\n",
    "\n",
    "#NLTK library used for NLP techniques\n",
    "import nltk\n",
    "\n",
    "#string library used for removing punctuation and stopwords\n",
    "import string\n",
    "\n",
    "#re is used for Regex operations\n",
    "import re\n",
    "\n",
    "#showing how many characters in a line\n",
    "pd.set_option('display.max_colwidth', 300)   \n",
    "\n",
    "#reading the final dataset\n",
    "data = pd.read_csv(\"/Users/aditiwalia/Downloads/Dataset - Final Sheet.tsv\", sep='\\t', header=None)\n",
    "\n",
    "#columns of the data frame\n",
    "data.columns = ['username', 'tweet', 'label', 'random']\n"
   ]
  },
  {
   "cell_type": "code",
   "execution_count": 3,
   "metadata": {},
   "outputs": [],
   "source": [
    "stopwords = nltk.corpus.stopwords.words('english')\n",
    "\n",
    "#stopwords.remove('is')\n",
    "#'is' in stopwords"
   ]
  },
  {
   "cell_type": "markdown",
   "metadata": {},
   "source": [
    "## Data Cleaning and Tokenizing"
   ]
  },
  {
   "cell_type": "code",
   "execution_count": 4,
   "metadata": {},
   "outputs": [],
   "source": [
    "'''\n",
    "remove_extras implemented to remove the following:\n",
    "1.) The hyperlinks and URLs in the tweet\n",
    "2.) RT or retweet tag\n",
    "3.) HTML character codes like &amp\n",
    "\n",
    "Parameters: a list of tokens\n",
    "Returns: a string with the removed elements\n",
    "'''\n",
    "def remove_extras(tokens):\n",
    "    text_noUrl = []\n",
    "    for word in tokens:\n",
    "        if \"https\" in word or \"http\" in word or word == \"RT\" or word == \"amp\":\n",
    "            continue\n",
    "        text_noUrl.append(word)\n",
    "    return text_noUrl\n",
    "\n",
    "'''\n",
    "remove_punctAndAlphanumeric implemented to remove the punctuations and other alphanumeric characters in the text\n",
    "\n",
    "Parameters: a string\n",
    "Returns: a string with the removed elements\n",
    "''' \n",
    "def remove_punctAndAlphanumeric(text):\n",
    "    text_noExtra = \"\".join([char for char in text if char not in string.punctuation and (char in string.ascii_letters or char in char in string.whitespace)])\n",
    "    return text_noExtra\n",
    "\n",
    "\n",
    "'''\n",
    "remove_stop implemented to remove the stopwords except \"IS\" because \"IS\" is short form for ISIS\n",
    "\n",
    "Parameters: a list of tokens\n",
    "Returns: a list of tokens with stopword tokens removed\n",
    "'''\n",
    "def remove_stop(tokens):\n",
    "    tokens_noStop = [word for word in tokens if word not in stopwords]\n",
    "    return tokens_noStop\n",
    "\n",
    "'''\n",
    "lemmatize implemented to lemmatize words/reduce each word to its basic lemma or root\n",
    "\n",
    "Parameters: a list of tokens\n",
    "Returns: a list of tokens with lemmatized words\n",
    "'''\n",
    "wn = nltk.WordNetLemmatizer()\n",
    "def lemmatize(tokens):\n",
    "    lemma_tokens = [wn.lemmatize(word) for word in tokens]\n",
    "    return lemma_tokens\n",
    "\n",
    "'''\n",
    "cleanAndTokenize implemented for the cleaning, tokenizing and lemmatizing the tweets\n",
    "\n",
    "Parameters: a string (tweets)\n",
    "Returns: a list of tokens (cleaned and lemmatized)\n",
    "'''\n",
    "def cleanAndTokenize(text):\n",
    "    cleanedText = remove_punctAndAlphanumeric(text)\n",
    "    tokens = re.split('\\W+',cleanedText)\n",
    "    tokens_removedExtras = remove_extras(tokens)\n",
    "    tokens_removedStop = remove_stop(tokens_removedExtras)\n",
    "    tokens_lemmatized = lemmatize(tokens_removedStop)\n",
    "    return tokens_lemmatized\n",
    "    "
   ]
  },
  {
   "cell_type": "code",
   "execution_count": 5,
   "metadata": {},
   "outputs": [
    {
     "name": "stdout",
     "output_type": "stream",
     "text": [
      "<class 'list'>\n"
     ]
    }
   ],
   "source": [
    "#clean data\n",
    "data['preprocessed_tweet'] = data['tweet'].apply(lambda x: cleanAndTokenize(x.lower()))\n",
    "cleaned_tokens = data['tweet'].apply(lambda x: cleanAndTokenize(x.lower())).values.tolist()\n",
    "print(type(cleaned_tokens))\n",
    "#data.head(20)"
   ]
  },
  {
   "cell_type": "code",
   "execution_count": 6,
   "metadata": {},
   "outputs": [
    {
     "data": {
      "text/html": [
       "<div>\n",
       "<style scoped>\n",
       "    .dataframe tbody tr th:only-of-type {\n",
       "        vertical-align: middle;\n",
       "    }\n",
       "\n",
       "    .dataframe tbody tr th {\n",
       "        vertical-align: top;\n",
       "    }\n",
       "\n",
       "    .dataframe thead th {\n",
       "        text-align: right;\n",
       "    }\n",
       "</style>\n",
       "<table border=\"1\" class=\"dataframe\">\n",
       "  <thead>\n",
       "    <tr style=\"text-align: right;\">\n",
       "      <th></th>\n",
       "      <th>username</th>\n",
       "      <th>tweet</th>\n",
       "      <th>label</th>\n",
       "      <th>random</th>\n",
       "      <th>preprocessed_tweet</th>\n",
       "      <th>tweet_len</th>\n",
       "    </tr>\n",
       "  </thead>\n",
       "  <tbody>\n",
       "    <tr>\n",
       "      <td>0</td>\n",
       "      <td>jxnatc</td>\n",
       "      <td>@RondaRousey Good luck tonight Rowdy! We're pulling for you! #NoToISIS #Prayers4Paris</td>\n",
       "      <td>0</td>\n",
       "      <td>0.166829</td>\n",
       "      <td>[rondarousey, good, luck, tonight, rowdy, pulling, notoisis, prayersparis]</td>\n",
       "      <td>75</td>\n",
       "    </tr>\n",
       "    <tr>\n",
       "      <td>1</td>\n",
       "      <td>ashuneras</td>\n",
       "      <td>this is such a good question</td>\n",
       "      <td>0</td>\n",
       "      <td>0.791709</td>\n",
       "      <td>[good, question]</td>\n",
       "      <td>23</td>\n",
       "    </tr>\n",
       "    <tr>\n",
       "      <td>2</td>\n",
       "      <td>CSULBASI</td>\n",
       "      <td>Have you ever wondered what major fits your extracurricular interests? Well now you can find out with one simple quiz! ‚†Ä ‚†Ä Take the quiz https://bit.ly/2XXpPGD</td>\n",
       "      <td>0</td>\n",
       "      <td>0.087267</td>\n",
       "      <td>[ever, wondered, major, fit, extracurricular, interest, well, find, one, simple, quiz, take, quiz]</td>\n",
       "      <td>138</td>\n",
       "    </tr>\n",
       "    <tr>\n",
       "      <td>3</td>\n",
       "      <td>dqkidd</td>\n",
       "      <td>#KSATFIESTA hello Leilana, Eli, Maxi, Aliyah, Carmen, Gabby, Ellie and paul watching the parade!!!!!! Quirogas &amp;amp; Amayas Viva Fiesta!!!!</td>\n",
       "      <td>0</td>\n",
       "      <td>0.861475</td>\n",
       "      <td>[ksatfiesta, hello, leilana, eli, maxi, aliyah, carmen, gabby, ellie, paul, watching, parade, quirogas, amayas, viva, fiesta]</td>\n",
       "      <td>121</td>\n",
       "    </tr>\n",
       "    <tr>\n",
       "      <td>4</td>\n",
       "      <td>Khen_Bee</td>\n",
       "      <td>If you want to leave, take good care. Hope you have a lot of nice things to wear, but then a lot of nice things turn bad out there.</td>\n",
       "      <td>0</td>\n",
       "      <td>0.514142</td>\n",
       "      <td>[want, leave, take, good, care, hope, lot, nice, thing, wear, lot, nice, thing, turn, bad]</td>\n",
       "      <td>103</td>\n",
       "    </tr>\n",
       "    <tr>\n",
       "      <td>5</td>\n",
       "      <td>douglvslee</td>\n",
       "      <td>Regina Hall was my first girl crush. her character in Malibu‚Äôs Most Wanted did something to my lil hormones.</td>\n",
       "      <td>0</td>\n",
       "      <td>0.237339</td>\n",
       "      <td>[regina, hall, first, girl, crush, character, malibus, wanted, something, lil, hormone]</td>\n",
       "      <td>92</td>\n",
       "    </tr>\n",
       "    <tr>\n",
       "      <td>6</td>\n",
       "      <td>lilwolf___</td>\n",
       "      <td>how do girls take cute tongue out pics??? I look like I‚Äôm ab to slob on a knob when I do that shit</td>\n",
       "      <td>0</td>\n",
       "      <td>0.991494</td>\n",
       "      <td>[girl, take, cute, tongue, pic, look, like, im, ab, slob, knob, shit]</td>\n",
       "      <td>78</td>\n",
       "    </tr>\n",
       "    <tr>\n",
       "      <td>7</td>\n",
       "      <td>thebabydoll__</td>\n",
       "      <td>So did he really pass or what ?</td>\n",
       "      <td>0</td>\n",
       "      <td>0.362523</td>\n",
       "      <td>[really, pas, ]</td>\n",
       "      <td>24</td>\n",
       "    </tr>\n",
       "    <tr>\n",
       "      <td>8</td>\n",
       "      <td>abubakerdimshqi</td>\n",
       "      <td>from the Heart love and respect for all #MUJAHDIN in BILAD #ALSHAM  Brothers&amp;amp;Sisters you are our hope to lead us to right way #IS</td>\n",
       "      <td>1</td>\n",
       "      <td>0.041372</td>\n",
       "      <td>[heart, love, respect, mujahdin, bilad, alsham, brothersampsisters, hope, lead, u, right, way]</td>\n",
       "      <td>109</td>\n",
       "    </tr>\n",
       "    <tr>\n",
       "      <td>9</td>\n",
       "      <td>robertmanoin</td>\n",
       "      <td>you misspelled RED omg</td>\n",
       "      <td>0</td>\n",
       "      <td>0.437904</td>\n",
       "      <td>[misspelled, red, omg]</td>\n",
       "      <td>19</td>\n",
       "    </tr>\n",
       "    <tr>\n",
       "      <td>10</td>\n",
       "      <td>kwuchu</td>\n",
       "      <td>Bro, those cost savings are dummy high, lmao. I don't blame you.</td>\n",
       "      <td>0</td>\n",
       "      <td>0.039165</td>\n",
       "      <td>[bro, cost, saving, dummy, high, lmao, dont, blame]</td>\n",
       "      <td>53</td>\n",
       "    </tr>\n",
       "    <tr>\n",
       "      <td>11</td>\n",
       "      <td>MaghrabiArabi</td>\n",
       "      <td>“The squeeze of the grave 😢 Must See Ya Muslimin.     (Diwanul Imam Ash Shafi’i, pg. 68) https://t.co/yAkX9YADqE</td>\n",
       "      <td>1</td>\n",
       "      <td>0.999160</td>\n",
       "      <td>[squeeze, grave, must, see, ya, muslimin, diwanul, imam, ash, shafii, pg]</td>\n",
       "      <td>92</td>\n",
       "    </tr>\n",
       "    <tr>\n",
       "      <td>12</td>\n",
       "      <td>John26885660</td>\n",
       "      <td>It won‚Äôt let me dm</td>\n",
       "      <td>0</td>\n",
       "      <td>0.865073</td>\n",
       "      <td>[wont, let, dm]</td>\n",
       "      <td>16</td>\n",
       "    </tr>\n",
       "    <tr>\n",
       "      <td>13</td>\n",
       "      <td>wayf44rerr</td>\n",
       "      <td>@mozlemgurl man is kufr, until his kufr in taghut is proven with evidence, and some say that if you don't make takfir on 3673th in the chain</td>\n",
       "      <td>1</td>\n",
       "      <td>0.774557</td>\n",
       "      <td>[mozlemgurl, man, kufr, kufr, taghut, proven, evidence, say, dont, make, takfir, th, chain]</td>\n",
       "      <td>114</td>\n",
       "    </tr>\n",
       "    <tr>\n",
       "      <td>14</td>\n",
       "      <td>TheAquilaOculus</td>\n",
       "      <td>@twitter How come my acct was temp locked? Is it bcoz of my hashtags #NoToBinay #NoToDuterte #NoToChina #NoToISIS #NoToPaPogiPulitiko ?</td>\n",
       "      <td>0</td>\n",
       "      <td>0.078818</td>\n",
       "      <td>[twitter, come, acct, temp, locked, bcoz, hashtags, notobinay, notoduterte, notochina, notoisis, notopapogipulitiko, ]</td>\n",
       "      <td>116</td>\n",
       "    </tr>\n",
       "    <tr>\n",
       "      <td>15</td>\n",
       "      <td>shippychaos</td>\n",
       "      <td>yessssss! good luck!</td>\n",
       "      <td>0</td>\n",
       "      <td>0.301993</td>\n",
       "      <td>[yes, good, luck]</td>\n",
       "      <td>18</td>\n",
       "    </tr>\n",
       "    <tr>\n",
       "      <td>16</td>\n",
       "      <td>dr2caramelo</td>\n",
       "      <td>What‚Äôs it about and where can I watch it?</td>\n",
       "      <td>0</td>\n",
       "      <td>0.586013</td>\n",
       "      <td>[whats, watch]</td>\n",
       "      <td>35</td>\n",
       "    </tr>\n",
       "    <tr>\n",
       "      <td>17</td>\n",
       "      <td>long_alina</td>\n",
       "      <td>Saw 77 as I saw this</td>\n",
       "      <td>0</td>\n",
       "      <td>0.675790</td>\n",
       "      <td>[saw, saw]</td>\n",
       "      <td>15</td>\n",
       "    </tr>\n",
       "    <tr>\n",
       "      <td>18</td>\n",
       "      <td>ihoop_jda</td>\n",
       "      <td>Extraction good asf</td>\n",
       "      <td>0</td>\n",
       "      <td>0.706258</td>\n",
       "      <td>[extraction, good, asf]</td>\n",
       "      <td>17</td>\n",
       "    </tr>\n",
       "    <tr>\n",
       "      <td>19</td>\n",
       "      <td>enleil</td>\n",
       "      <td>“@romario187: #AssyrianGenocide We #DemandForAction and a #SafeHavenNow #IStandWithNineveh #Assyrian #NotoISIS https://twitter.com/NohudzM/status/497831661040857088/photo/1”</td>\n",
       "      <td>0</td>\n",
       "      <td>0.220896</td>\n",
       "      <td>[romario, assyriangenocide, demandforaction, safehavennow, istandwithnineveh, assyrian, notoisis]</td>\n",
       "      <td>163</td>\n",
       "    </tr>\n",
       "  </tbody>\n",
       "</table>\n",
       "</div>"
      ],
      "text/plain": [
       "           username  \\\n",
       "0            jxnatc   \n",
       "1         ashuneras   \n",
       "2          CSULBASI   \n",
       "3            dqkidd   \n",
       "4          Khen_Bee   \n",
       "5        douglvslee   \n",
       "6        lilwolf___   \n",
       "7     thebabydoll__   \n",
       "8   abubakerdimshqi   \n",
       "9      robertmanoin   \n",
       "10           kwuchu   \n",
       "11    MaghrabiArabi   \n",
       "12     John26885660   \n",
       "13       wayf44rerr   \n",
       "14  TheAquilaOculus   \n",
       "15      shippychaos   \n",
       "16      dr2caramelo   \n",
       "17       long_alina   \n",
       "18        ihoop_jda   \n",
       "19           enleil   \n",
       "\n",
       "                                                                                                                                                                            tweet  \\\n",
       "0                                                                                           @RondaRousey Good luck tonight Rowdy! We're pulling for you! #NoToISIS #Prayers4Paris   \n",
       "1                                                                                                                                                    this is such a good question   \n",
       "2             Have you ever wondered what major fits your extracurricular interests? Well now you can find out with one simple quiz! ‚†Ä ‚†Ä Take the quiz https://bit.ly/2XXpPGD   \n",
       "3                                     #KSATFIESTA hello Leilana, Eli, Maxi, Aliyah, Carmen, Gabby, Ellie and paul watching the parade!!!!!! Quirogas &amp; Amayas Viva Fiesta!!!!   \n",
       "4                                             If you want to leave, take good care. Hope you have a lot of nice things to wear, but then a lot of nice things turn bad out there.   \n",
       "5                                                                  Regina Hall was my first girl crush. her character in Malibu‚Äôs Most Wanted did something to my lil hormones.   \n",
       "6                                                                            how do girls take cute tongue out pics??? I look like I‚Äôm ab to slob on a knob when I do that shit   \n",
       "7                                                                                                                                                 So did he really pass or what ?   \n",
       "8                                           from the Heart love and respect for all #MUJAHDIN in BILAD #ALSHAM  Brothers&amp;Sisters you are our hope to lead us to right way #IS   \n",
       "9                                                                                                                                                          you misspelled RED omg   \n",
       "10                                                                                                               Bro, those cost savings are dummy high, lmao. I don't blame you.   \n",
       "11                                                               “The squeeze of the grave 😢 Must See Ya Muslimin.     (Diwanul Imam Ash Shafi’i, pg. 68) https://t.co/yAkX9YADqE   \n",
       "12                                                                                                                                                           It won‚Äôt let me dm   \n",
       "13                                   @mozlemgurl man is kufr, until his kufr in taghut is proven with evidence, and some say that if you don't make takfir on 3673th in the chain   \n",
       "14                                        @twitter How come my acct was temp locked? Is it bcoz of my hashtags #NoToBinay #NoToDuterte #NoToChina #NoToISIS #NoToPaPogiPulitiko ?   \n",
       "15                                                                                                                                                           yessssss! good luck!   \n",
       "16                                                                                                                                    What‚Äôs it about and where can I watch it?   \n",
       "17                                                                                                                                                           Saw 77 as I saw this   \n",
       "18                                                                                                                                                            Extraction good asf   \n",
       "19  “@romario187: #AssyrianGenocide We #DemandForAction and a #SafeHavenNow #IStandWithNineveh #Assyrian #NotoISIS https://twitter.com/NohudzM/status/497831661040857088/photo/1”   \n",
       "\n",
       "    label    random  \\\n",
       "0       0  0.166829   \n",
       "1       0  0.791709   \n",
       "2       0  0.087267   \n",
       "3       0  0.861475   \n",
       "4       0  0.514142   \n",
       "5       0  0.237339   \n",
       "6       0  0.991494   \n",
       "7       0  0.362523   \n",
       "8       1  0.041372   \n",
       "9       0  0.437904   \n",
       "10      0  0.039165   \n",
       "11      1  0.999160   \n",
       "12      0  0.865073   \n",
       "13      1  0.774557   \n",
       "14      0  0.078818   \n",
       "15      0  0.301993   \n",
       "16      0  0.586013   \n",
       "17      0  0.675790   \n",
       "18      0  0.706258   \n",
       "19      0  0.220896   \n",
       "\n",
       "                                                                                                               preprocessed_tweet  \\\n",
       "0                                                      [rondarousey, good, luck, tonight, rowdy, pulling, notoisis, prayersparis]   \n",
       "1                                                                                                                [good, question]   \n",
       "2                              [ever, wondered, major, fit, extracurricular, interest, well, find, one, simple, quiz, take, quiz]   \n",
       "3   [ksatfiesta, hello, leilana, eli, maxi, aliyah, carmen, gabby, ellie, paul, watching, parade, quirogas, amayas, viva, fiesta]   \n",
       "4                                      [want, leave, take, good, care, hope, lot, nice, thing, wear, lot, nice, thing, turn, bad]   \n",
       "5                                         [regina, hall, first, girl, crush, character, malibus, wanted, something, lil, hormone]   \n",
       "6                                                           [girl, take, cute, tongue, pic, look, like, im, ab, slob, knob, shit]   \n",
       "7                                                                                                                 [really, pas, ]   \n",
       "8                                  [heart, love, respect, mujahdin, bilad, alsham, brothersampsisters, hope, lead, u, right, way]   \n",
       "9                                                                                                          [misspelled, red, omg]   \n",
       "10                                                                            [bro, cost, saving, dummy, high, lmao, dont, blame]   \n",
       "11                                                      [squeeze, grave, must, see, ya, muslimin, diwanul, imam, ash, shafii, pg]   \n",
       "12                                                                                                                [wont, let, dm]   \n",
       "13                                    [mozlemgurl, man, kufr, kufr, taghut, proven, evidence, say, dont, make, takfir, th, chain]   \n",
       "14         [twitter, come, acct, temp, locked, bcoz, hashtags, notobinay, notoduterte, notochina, notoisis, notopapogipulitiko, ]   \n",
       "15                                                                                                              [yes, good, luck]   \n",
       "16                                                                                                                 [whats, watch]   \n",
       "17                                                                                                                     [saw, saw]   \n",
       "18                                                                                                        [extraction, good, asf]   \n",
       "19                              [romario, assyriangenocide, demandforaction, safehavennow, istandwithnineveh, assyrian, notoisis]   \n",
       "\n",
       "    tweet_len  \n",
       "0          75  \n",
       "1          23  \n",
       "2         138  \n",
       "3         121  \n",
       "4         103  \n",
       "5          92  \n",
       "6          78  \n",
       "7          24  \n",
       "8         109  \n",
       "9          19  \n",
       "10         53  \n",
       "11         92  \n",
       "12         16  \n",
       "13        114  \n",
       "14        116  \n",
       "15         18  \n",
       "16         35  \n",
       "17         15  \n",
       "18         17  \n",
       "19        163  "
      ]
     },
     "execution_count": 6,
     "metadata": {},
     "output_type": "execute_result"
    }
   ],
   "source": [
    "#add tweet length feature\n",
    "data['tweet_len'] = data['tweet'].apply(lambda x: len(x) - x.count(\" \"))\n",
    "data.head(20)"
   ]
  },
  {
   "cell_type": "code",
   "execution_count": 58,
   "metadata": {},
   "outputs": [
    {
     "data": {
      "image/png": "[encoded data removed]",
      "text/plain": [
       "<Figure size 432x288 with 1 Axes>"
      ]
     },
     "metadata": {
      "needs_background": "light"
     },
     "output_type": "display_data"
    }
   ],
   "source": [
    "from matplotlib import pyplot\n",
    "bins = np.linspace(0, 280, 40)    #cutpoints showing an array with 40 evenly spaced numbers b/w 0 and 200\n",
    "\n",
    "pyplot.hist(data[data['label']==1]['tweet_len'], bins, alpha=0.5, density=True, label='radical') #histogram for distr. of body length for only spam\n",
    "pyplot.hist(data[data['label']==0]['tweet_len'], bins, alpha=0.5, density=True, label='non-radical')   #histogram for distr. of body length for only ham    \n",
    "pyplot.legend(loc='upper left')\n",
    "pyplot.show()"
   ]
  },
  {
   "cell_type": "code",
   "execution_count": 7,
   "metadata": {},
   "outputs": [],
   "source": [
    "#radical keyworda\n",
    "radical_keywords = ['KUFFUR', 'IS', 'ISLAMIC STATE', '#ILOVEISIS', 'KUFFARS', 'mujahiddeen',\n",
    "                    'kuffur', 'KUFFAR', 'kuffars', 'kuffar', 'kafir', 'MUJAHIDEEN', 'KUFAR', 'KAFIR',\n",
    "                    'KUFR', 'mujahideen', '#IS', 'kufar', 'kufr', 'mujahid', 'JIHAD', 'jihad', 'MUJAHID',\n",
    "                    'MUJAHIDDEEN', '#ISIS', 'Islamic State', '#ILoveISIS', 'ISIL', 'allah', 'Allah', 'Assad', 'assad', 'PKK',\n",
    "                    'YPG', '#AleppoIsBurning', 'Aleppo', 'martydom', 'Martyrdom']\n",
    "\n",
    "def radicalWordPresence(text):\n",
    "    for key in radical_keywords:\n",
    "        if key in text:\n",
    "            return 1\n",
    "    return 0"
   ]
  },
  {
   "cell_type": "code",
   "execution_count": 8,
   "metadata": {},
   "outputs": [],
   "source": [
    "#add rad key feature\n",
    "data['rad_key'] = data['tweet'].apply(lambda x:radicalWordPresence(x))\n",
    "#data.head(20)"
   ]
  },
  {
   "cell_type": "code",
   "execution_count": 10,
   "metadata": {},
   "outputs": [],
   "source": [
    "import gensim\n",
    "import gensim.models.keyedvectors as word2vec\n",
    "\n",
    "#from gensim.models import Word2Vec, KeyedVectors"
   ]
  },
  {
   "cell_type": "code",
   "execution_count": 11,
   "metadata": {},
   "outputs": [],
   "source": [
    "#model = Word2Vec.load(\"/Users/aditiwalia/Downloads/GoogleNews-vectors-negative300.bin.gz\")\n",
    "model = word2vec.KeyedVectors.load_word2vec_format('/Users/aditiwalia/Downloads/GoogleNews-vectors-negative300.bin.gz', binary=True)\n"
   ]
  },
  {
   "cell_type": "code",
   "execution_count": 12,
   "metadata": {},
   "outputs": [
    {
     "data": {
      "text/plain": [
       "[('kafir', 0.6600816249847412),\n",
       " ('Kuffar', 0.6480599045753479),\n",
       " ('infidels', 0.6436571478843689),\n",
       " ('unbelievers', 0.6348938941955566),\n",
       " ('polytheists', 0.6023821830749512),\n",
       " ('Kafirs', 0.5989149808883667),\n",
       " ('Allah', 0.5932642817497253),\n",
       " ('infidel', 0.5747469663619995),\n",
       " ('jihad', 0.5737059712409973),\n",
       " ('kafirs', 0.5729705691337585)]"
      ]
     },
     "execution_count": 12,
     "metadata": {},
     "output_type": "execute_result"
    }
   ],
   "source": [
    "model.most_similar('kuffar')"
   ]
  },
  {
   "cell_type": "code",
   "execution_count": 13,
   "metadata": {},
   "outputs": [],
   "source": [
    "def get_vector(processed_tweet):\n",
    "        # convert to lowercase, ignore all special characters - keep only\n",
    "        # alpha-numericals and spaces\n",
    "        #sentence = re.sub(r'[^A-Za-z0-9\\s]', r'', str(sentence).lower())\n",
    "\n",
    "        vectors = [model.wv[w] for w in processed_tweet\n",
    "                   if w in model.wv]\n",
    "\n",
    "        v = np.zeros(model.vector_size)\n",
    "\n",
    "        if (len(vectors) > 0):\n",
    "            v = (np.array([np.sum(x) for x in zip(*vectors)])) / v.size\n",
    "\n",
    "        return v"
   ]
  },
  {
   "cell_type": "code",
   "execution_count": 15,
   "metadata": {},
   "outputs": [
    {
     "name": "stderr",
     "output_type": "stream",
     "text": [
      "/opt/anaconda3/lib/python3.7/site-packages/ipykernel_launcher.py:7: DeprecationWarning: Call to deprecated `wv` (Attribute will be removed in 4.0.0, use self instead).\n",
      "  import sys\n"
     ]
    }
   ],
   "source": [
    "data['sentence_vec'] = data['preprocessed_tweet'].apply(lambda x: get_vector(x))\n"
   ]
  },
  {
   "cell_type": "code",
   "execution_count": 16,
   "metadata": {},
   "outputs": [],
   "source": [
    "from numpy.linalg import norm\n",
    "\n",
    "def similarity(xv, yv):\n",
    "        #xv = self.get_vector(x)\n",
    "        #yv = self.get_vector(y)\n",
    "\n",
    "        score = 0\n",
    "\n",
    "        if xv.size > 0 and yv.size > 0:\n",
    "            score = np.dot(xv, yv) / (norm(xv) * norm(yv))\n",
    "\n",
    "        return score"
   ]
  },
  {
   "cell_type": "code",
   "execution_count": 24,
   "metadata": {},
   "outputs": [],
   "source": [
    "from sklearn.model_selection import train_test_split\n",
    "\n",
    "X_train, X_test, y_train, y_test = train_test_split(data[['sentence_vec', 'tweet_len', 'rad_key']], data['label'], test_size=0.2)\n",
    "\n"
   ]
  },
  {
   "cell_type": "code",
   "execution_count": 25,
   "metadata": {},
   "outputs": [],
   "source": [
    "#Using Tfidf Vectorizer\n",
    "from sklearn.feature_extraction.text import TfidfVectorizer\n",
    "X_train_vect = pd.concat([X_train[['rad_key','tweet_len']].reset_index(drop=True), \n",
    "                         pd.DataFrame(X_train['sentence_vec'].values.tolist())], axis=1)\n",
    "X_test_vect = pd.concat([X_test[['rad_key','tweet_len']].reset_index(drop=True), \n",
    "                         pd.DataFrame(X_test['sentence_vec'].values.tolist())], axis=1)\n",
    "\n"
   ]
  },
  {
   "cell_type": "code",
   "execution_count": 26,
   "metadata": {},
   "outputs": [],
   "source": [
    "from sklearn.ensemble import RandomForestClassifier, GradientBoostingClassifier, AdaBoostClassifier\n",
    "from sklearn.metrics import precision_recall_fscore_support as score\n",
    "import time\n",
    "\n",
    "\n",
    "from sklearn.model_selection import train_test_split\n",
    "from sklearn.svm import SVC\n",
    "from sklearn.metrics import plot_roc_curve\n",
    "from sklearn.datasets import load_wine\n",
    "\n"
   ]
  },
  {
   "cell_type": "code",
   "execution_count": 27,
   "metadata": {},
   "outputs": [
    {
     "name": "stdout",
     "output_type": "stream",
     "text": [
      "Fit Time: 0.99 / Pred Time: 0.113 -------- Precision: 0.876 / Recall: 0.511 / Accuracy: 0.911\n"
     ]
    },
    {
     "data": {
      "image/png": "[encoded data removed]",
      "text/plain": [
       "<Figure size 432x288 with 1 Axes>"
      ]
     },
     "metadata": {
      "needs_background": "light"
     },
     "output_type": "display_data"
    }
   ],
   "source": [
    "#Random forest\n",
    "\n",
    "from sklearn.metrics import plot_roc_curve\n",
    "rf = RandomForestClassifier(n_estimators=100, max_depth=None, n_jobs=-1)\n",
    "\n",
    "start = time.time()\n",
    "rf_model = rf.fit(X_train_vect, y_train)\n",
    "end = time.time()\n",
    "fit_time = round((end - start),3)\n",
    "\n",
    "start = time.time()\n",
    "y_pred = rf_model.predict(X_test_vect)\n",
    "end = time.time()\n",
    "pred_time = round((end - start),3)\n",
    "\n",
    "precision, recall, fscore, support = score(y_test, y_pred, pos_label=1, average='binary')\n",
    "print('Fit Time: {} / Pred Time: {} -------- Precision: {} / Recall: {} / Accuracy: {}'.format(\n",
    "fit_time, pred_time, round(precision,3), round(recall,3), round(((y_test==y_pred).sum() / len(y_pred)),3)\n",
    "))\n",
    "\n",
    "rf_disp = plot_roc_curve(rf_model, X_test_vect, y_test)\n",
    "\n"
   ]
  },
  {
   "cell_type": "code",
   "execution_count": 28,
   "metadata": {},
   "outputs": [
    {
     "name": "stdout",
     "output_type": "stream",
     "text": [
      "Fit Time: 95.415 / Pred Time: 0.013 -------- Precision: 0.837 / Recall: 0.711 / Accuracy: 0.932\n"
     ]
    },
    {
     "data": {
      "image/png": "[encoded data removed]",
      "text/plain": [
       "<Figure size 432x288 with 1 Axes>"
      ]
     },
     "metadata": {
      "needs_background": "light"
     },
     "output_type": "display_data"
    }
   ],
   "source": [
    "#gradient boost\n",
    "\n",
    "gb = GradientBoostingClassifier(n_estimators=150, max_depth=7)\n",
    "\n",
    "start = time.time()\n",
    "gb_model = gb.fit(X_train_vect, y_train)\n",
    "end = time.time()\n",
    "fit_time = round((end - start),3)\n",
    "\n",
    "start = time.time()\n",
    "y_pred = gb_model.predict(X_test_vect)\n",
    "end = time.time()\n",
    "pred_time = round((end - start),3)\n",
    "\n",
    "precision, recall, fscore, support = score(y_test, y_pred, pos_label=1, average='binary')\n",
    "print('Fit Time: {} / Pred Time: {} -------- Precision: {} / Recall: {} / Accuracy: {}'.format(\n",
    "fit_time, pred_time, round(precision,3), round(recall,3), round(((y_test==y_pred).sum() / len(y_pred)),3)\n",
    "))\n",
    "\n",
    "gb_disp = plot_roc_curve(gb_model, X_test_vect, y_test)"
   ]
  },
  {
   "cell_type": "code",
   "execution_count": 29,
   "metadata": {},
   "outputs": [
    {
     "name": "stdout",
     "output_type": "stream",
     "text": [
      "Fit Time: 23.554 / Pred Time: 0.13 -------- Precision: 0.802 / Recall: 0.722 / Accuracy: 0.928\n"
     ]
    },
    {
     "data": {
      "image/png": "[encoded data removed]",
      "text/plain": [
       "<Figure size 432x288 with 1 Axes>"
      ]
     },
     "metadata": {
      "needs_background": "light"
     },
     "output_type": "display_data"
    }
   ],
   "source": [
    "#adaboost\n",
    "ab = AdaBoostClassifier(learning_rate=1,n_estimators=200)\n",
    "\n",
    "start = time.time()\n",
    "ab_model = ab.fit(X_train_vect, y_train)\n",
    "end = time.time()\n",
    "fit_time = round((end - start),3)\n",
    "\n",
    "start = time.time()\n",
    "y_pred = ab_model.predict(X_test_vect)\n",
    "end = time.time()\n",
    "pred_time = round((end - start),3)\n",
    "\n",
    "precision, recall, fscore, support = score(y_test, y_pred, pos_label=1, average='binary')\n",
    "print('Fit Time: {} / Pred Time: {} -------- Precision: {} / Recall: {} / Accuracy: {}'.format(\n",
    "fit_time, pred_time, round(precision,3), round(recall,3), round(((y_test==y_pred).sum() / len(y_pred)),3)\n",
    "))\n",
    "\n",
    "ab_disp = plot_roc_curve(ab_model, X_test_vect, y_test)\n"
   ]
  },
  {
   "cell_type": "code",
   "execution_count": 49,
   "metadata": {},
   "outputs": [
    {
     "name": "stdout",
     "output_type": "stream",
     "text": [
      "Fit Time: 0.036 / Pred Time: 0.01 -------- Precision: 0.434 / Recall: 0.656 / Accuracy: 0.81\n"
     ]
    },
    {
     "data": {
      "image/png": "[encoded data removed]",
      "text/plain": [
       "<Figure size 432x288 with 1 Axes>"
      ]
     },
     "metadata": {
      "needs_background": "light"
     },
     "output_type": "display_data"
    }
   ],
   "source": [
    "#gaussian naive bayes\n",
    "from sklearn.naive_bayes import GaussianNB\n",
    "nb = GaussianNB()\n",
    "\n",
    "start = time.time()\n",
    "nb_model = nb.fit(X_train_vect, y_train)\n",
    "end = time.time()\n",
    "fit_time = round((end - start),3)\n",
    "\n",
    "start = time.time()\n",
    "y_pred = nb_model.predict(X_test_vect)\n",
    "end = time.time()\n",
    "pred_time = round((end - start),3)\n",
    "\n",
    "precision, recall, fscore, support = score(y_test, y_pred, pos_label=1, average='binary')\n",
    "print('Fit Time: {} / Pred Time: {} -------- Precision: {} / Recall: {} / Accuracy: {}'.format(\n",
    "fit_time, pred_time, round(precision,3), round(recall,3), round(((y_test==y_pred).sum() / len(y_pred)),3)\n",
    "))\n",
    "\n",
    "nb_disp = plot_roc_curve(nb_model, X_test_vect, y_test)\n"
   ]
  },
  {
   "cell_type": "code",
   "execution_count": 48,
   "metadata": {},
   "outputs": [
    {
     "name": "stdout",
     "output_type": "stream",
     "text": [
      "Fit Time: 0.081 / Pred Time: 0.096 -------- Precision: 0.656 / Recall: 0.561 / Accuracy: 0.884\n"
     ]
    },
    {
     "data": {
      "image/png": "[encoded data removed]",
      "text/plain": [
       "<Figure size 432x288 with 1 Axes>"
      ]
     },
     "metadata": {
      "needs_background": "light"
     },
     "output_type": "display_data"
    }
   ],
   "source": [
    "#k-nearest neighbours\n",
    "from sklearn.neighbors import KNeighborsClassifier\n",
    "\n",
    "# 2. instantiate the model (with the default parameters)\n",
    "knn = KNeighborsClassifier(weights='distance',n_neighbors=25)\n",
    "\n",
    "start = time.time()\n",
    "knn_model = knn.fit(X_train_vect, y_train)\n",
    "end = time.time()\n",
    "fit_time = round((end - start),3)\n",
    "\n",
    "start = time.time()\n",
    "y_pred = knn_model.predict(X_test_vect)\n",
    "end = time.time()\n",
    "pred_time = round((end - start),3)\n",
    "\n",
    "precision, recall, fscore, support = score(y_test, y_pred, pos_label=1, average='binary')\n",
    "print('Fit Time: {} / Pred Time: {} -------- Precision: {} / Recall: {} / Accuracy: {}'.format(\n",
    "fit_time, pred_time, round(precision,3), round(recall,3), round(((y_test==y_pred).sum() / len(y_pred)),3)\n",
    "))\n",
    "\n",
    "nb_multinom_disp = plot_roc_curve(knn_model, X_test_vect, y_test)\n"
   ]
  },
  {
   "cell_type": "code",
   "execution_count": null,
   "metadata": {},
   "outputs": [],
   "source": [
    "print(np.count_nonzero(y_pred == 1))"
   ]
  },
  {
   "cell_type": "code",
   "execution_count": 51,
   "metadata": {
    "scrolled": true
   },
   "outputs": [
    {
     "name": "stdout",
     "output_type": "stream",
     "text": [
      "Fit Time: 4.007 / Pred Time: 0.663 -------- Precision: 0.434 / Recall: 0.883 / Accuracy: 0.799\n"
     ]
    },
    {
     "data": {
      "image/png": "[encoded data removed]",
      "text/plain": [
       "<Figure size 432x288 with 1 Axes>"
      ]
     },
     "metadata": {
      "needs_background": "light"
     },
     "output_type": "display_data"
    }
   ],
   "source": [
    "from sklearn import svm\n",
    "\n",
    "sv = svm.SVC(C=1000,kernel='rbf',class_weight='balanced')\n",
    "\n",
    "start = time.time()\n",
    "sv_model = sv.fit(X_train_vect, y_train)\n",
    "end = time.time()\n",
    "fit_time = round((end - start),3)\n",
    "\n",
    "start = time.time()\n",
    "y_pred = sv_model.predict(X_test_vect)\n",
    "end = time.time()\n",
    "pred_time = round((end - start),3)\n",
    "\n",
    "precision, recall, fscore, support = score(y_test, y_pred, pos_label=1, average='binary')\n",
    "print('Fit Time: {} / Pred Time: {} -------- Precision: {} / Recall: {} / Accuracy: {}'.format(\n",
    "fit_time, pred_time, round(precision,3), round(recall,3), round(((y_test==y_pred).sum() / len(y_pred)),3)\n",
    "))\n",
    "\n",
    "\n",
    "\n",
    "sv_disp = plot_roc_curve(sv_model, X_test_vect, y_test)\n",
    "\n"
   ]
  },
  {
   "cell_type": "code",
   "execution_count": null,
   "metadata": {},
   "outputs": [],
   "source": [
    "print(np.count_nonzero(y_pred == 1))"
   ]
  },
  {
   "cell_type": "code",
   "execution_count": 67,
   "metadata": {},
   "outputs": [
    {
     "name": "stdout",
     "output_type": "stream",
     "text": [
      "[0.84419014 0.84419014 0.84419014 0.84493392 0.84493392]\n"
     ]
    }
   ],
   "source": [
    "from sklearn.model_selection import cross_val_score\n",
    "clf = svm.SVC(kernel='linear', C=1)\n",
    "scores = cross_val_score(clf, X_vect, y, cv=5)\n",
    "print(scores)\n",
    "\n",
    "\n"
   ]
  },
  {
   "cell_type": "code",
   "execution_count": 52,
   "metadata": {},
   "outputs": [],
   "source": [
    "result_table = pd.DataFrame(columns=['classifiers', 'fpr','tpr','auc'])\n",
    "from sklearn.metrics import roc_curve, roc_auc_score\n",
    "classifiers=[knn,ab,nb,sv,rf,gb]\n",
    "y_pred_knn = knn_model.predict(X_test_vect)\n",
    "fpr, tpr, _ = roc_curve(y_test,  y_pred_knn)\n",
    "auc = roc_auc_score(y_test, y_pred_knn)\n",
    "result_table = result_table.append({'classifiers':knn.__class__.__name__,\n",
    "                                        'fpr':fpr, \n",
    "                                        'tpr':tpr, \n",
    "                                        'auc':auc}, ignore_index=True)\n",
    "\n",
    "\n",
    "y_pred_ab=ab_model.predict(X_test_vect)\n",
    "fpr, tpr, _ = roc_curve(y_test,  y_pred_ab)\n",
    "auc = roc_auc_score(y_test, y_pred_ab)\n",
    "result_table = result_table.append({'classifiers':ab.__class__.__name__,\n",
    "                                        'fpr':fpr, \n",
    "                                        'tpr':tpr, \n",
    "                                        'auc':auc}, ignore_index=True)\n",
    "\n",
    "y_pred_nb=nb_model.predict(X_test_vect)\n",
    "fpr, tpr, _ = roc_curve(y_test,  y_pred_nb)\n",
    "auc = roc_auc_score(y_test, y_pred_nb)\n",
    "result_table = result_table.append({'classifiers':nb.__class__.__name__,\n",
    "                                        'fpr':fpr, \n",
    "                                        'tpr':tpr, \n",
    "                                        'auc':auc}, ignore_index=True)\n",
    "y_pred_svm=sv_model.predict(X_test_vect)\n",
    "fpr, tpr, _ = roc_curve(y_test,  y_pred_svm)\n",
    "auc = roc_auc_score(y_test, y_pred_svm)\n",
    "result_table = result_table.append({'classifiers':sv.__class__.__name__,\n",
    "                                        'fpr':fpr, \n",
    "                                        'tpr':tpr, \n",
    "                                        'auc':auc}, ignore_index=True)\n",
    "y_pred_rf=rf_model.predict(X_test_vect)\n",
    "fpr, tpr, _ = roc_curve(y_test,  y_pred_rf)\n",
    "auc = roc_auc_score(y_test, y_pred_rf)\n",
    "result_table = result_table.append({'classifiers':rf.__class__.__name__,\n",
    "                                        'fpr':fpr, \n",
    "                                        'tpr':tpr, \n",
    "                                        'auc':auc}, ignore_index=True)\n",
    "y_pred_gb=gb_model.predict(X_test_vect)\n",
    "fpr, tpr, _ = roc_curve(y_test,  y_pred_gb)\n",
    "auc = roc_auc_score(y_test, y_pred_gb)\n",
    "result_table = result_table.append({'classifiers':gb.__class__.__name__,\n",
    "                                        'fpr':fpr, \n",
    "                                        'tpr':tpr, \n",
    "                                        'auc':auc}, ignore_index=True)\n",
    "\n",
    "result_table.set_index('classifiers', inplace=True)\n"
   ]
  },
  {
   "cell_type": "code",
   "execution_count": 53,
   "metadata": {},
   "outputs": [
    {
     "data": {
      "image/png": "[encoded data removed]",
      "text/plain": [
       "<Figure size 576x432 with 1 Axes>"
      ]
     },
     "metadata": {
      "needs_background": "light"
     },
     "output_type": "display_data"
    }
   ],
   "source": [
    "import matplotlib.pyplot as plt\n",
    "\n",
    "fig = plt.figure(figsize=(8,6))\n",
    "\n",
    "\n",
    "for i in result_table.index:\n",
    "    plt.plot(result_table.loc[i]['fpr'], \n",
    "             result_table.loc[i]['tpr'], \n",
    "             label=\"{}, AUC={:.3f}\".format(i, result_table.loc[i]['auc']))\n",
    "    \n",
    "plt.plot([0,1], [0,1], color='orange', linestyle='--')\n",
    "\n",
    "plt.xticks(np.arange(0.0, 1.1, step=0.1))\n",
    "plt.xlabel(\"Flase Positive Rate\", fontsize=15)\n",
    "\n",
    "plt.yticks(np.arange(0.0, 1.1, step=0.1))\n",
    "plt.ylabel(\"True Positive Rate\", fontsize=15)\n",
    "\n",
    "plt.title('ROC Curve Analysis Word2Vec Vectoriser', fontweight='bold', fontsize=15)\n",
    "plt.legend(prop={'size':13}, loc='lower right')\n",
    "\n",
    "plt.show()"
   ]
  },
  {
   "cell_type": "code",
   "execution_count": null,
   "metadata": {},
   "outputs": [],
   "source": []
  }
 ],
 "metadata": {
  "kernelspec": {
   "display_name": "Python 3",
   "language": "python",
   "name": "python3"
  },
  "language_info": {
   "codemirror_mode": {
    "name": "ipython",
    "version": 3
   },
   "file_extension": ".py",
   "mimetype": "text/x-python",
   "name": "python",
   "nbconvert_exporter": "python",
   "pygments_lexer": "ipython3",
   "version": "3.7.4"
  }
 },
 "nbformat": 4,
 "nbformat_minor": 2
}
